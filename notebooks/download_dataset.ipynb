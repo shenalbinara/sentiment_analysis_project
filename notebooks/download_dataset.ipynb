{
 "cells": [
  {
   "cell_type": "code",
   "execution_count": 2,
   "id": "c9d7721a",
   "metadata": {
    "vscode": {
     "languageId": "plaintext"
    }
   },
   "outputs": [],
   "source": [
    "import numpy as np\n"
   ]
  },
  {
   "cell_type": "code",
   "execution_count": 1,
   "id": "f99402e1",
   "metadata": {
    "vscode": {
     "languageId": "plaintext"
    }
   },
   "outputs": [],
   "source": [
    "import json\n",
    "with open('../artifacts/kaggle.json', 'r') as file:\n",
    "    data = json.load(file)"
   ]
  },
  {
   "cell_type": "code",
   "execution_count": 3,
   "id": "91572882-1eb2-412b-ab22-0e74e2691cb6",
   "metadata": {},
   "outputs": [
    {
     "data": {
      "text/plain": [
       "{'username': 'shenalbinara', 'key': '0cd6e5f40778a47be76207da25979064'}"
      ]
     },
     "execution_count": 3,
     "metadata": {},
     "output_type": "execute_result"
    }
   ],
   "source": [
    "data"
   ]
  },
  {
   "cell_type": "code",
   "execution_count": 4,
   "id": "024993e0-2594-439b-9c8b-cfe5f581fabe",
   "metadata": {},
   "outputs": [
    {
     "name": "stdout",
     "output_type": "stream",
     "text": [
      "Collecting kaggle\n",
      "  Downloading kaggle-1.7.4.5-py3-none-any.whl.metadata (16 kB)\n",
      "Requirement already satisfied: bleach in c:\\users\\hp\\desktop\\ai_projects\\sentiment_analysis_project\\venv\\lib\\site-packages (from kaggle) (6.2.0)\n",
      "Requirement already satisfied: certifi>=14.05.14 in c:\\users\\hp\\desktop\\ai_projects\\sentiment_analysis_project\\venv\\lib\\site-packages (from kaggle) (2025.6.15)\n",
      "Requirement already satisfied: charset-normalizer in c:\\users\\hp\\desktop\\ai_projects\\sentiment_analysis_project\\venv\\lib\\site-packages (from kaggle) (3.4.2)\n",
      "Requirement already satisfied: idna in c:\\users\\hp\\desktop\\ai_projects\\sentiment_analysis_project\\venv\\lib\\site-packages (from kaggle) (3.10)\n",
      "Collecting protobuf (from kaggle)\n",
      "  Using cached protobuf-6.31.1-cp310-abi3-win_amd64.whl.metadata (593 bytes)\n",
      "Requirement already satisfied: python-dateutil>=2.5.3 in c:\\users\\hp\\desktop\\ai_projects\\sentiment_analysis_project\\venv\\lib\\site-packages (from kaggle) (2.9.0.post0)\n",
      "Collecting python-slugify (from kaggle)\n",
      "  Downloading python_slugify-8.0.4-py2.py3-none-any.whl.metadata (8.5 kB)\n",
      "Requirement already satisfied: requests in c:\\users\\hp\\desktop\\ai_projects\\sentiment_analysis_project\\venv\\lib\\site-packages (from kaggle) (2.32.4)\n",
      "Requirement already satisfied: setuptools>=21.0.0 in c:\\users\\hp\\desktop\\ai_projects\\sentiment_analysis_project\\venv\\lib\\site-packages (from kaggle) (80.9.0)\n",
      "Requirement already satisfied: six>=1.10 in c:\\users\\hp\\desktop\\ai_projects\\sentiment_analysis_project\\venv\\lib\\site-packages (from kaggle) (1.17.0)\n",
      "Collecting text-unidecode (from kaggle)\n",
      "  Downloading text_unidecode-1.3-py2.py3-none-any.whl.metadata (2.4 kB)\n",
      "Collecting tqdm (from kaggle)\n",
      "  Using cached tqdm-4.67.1-py3-none-any.whl.metadata (57 kB)\n",
      "Requirement already satisfied: urllib3>=1.15.1 in c:\\users\\hp\\desktop\\ai_projects\\sentiment_analysis_project\\venv\\lib\\site-packages (from kaggle) (2.5.0)\n",
      "Requirement already satisfied: webencodings in c:\\users\\hp\\desktop\\ai_projects\\sentiment_analysis_project\\venv\\lib\\site-packages (from kaggle) (0.5.1)\n",
      "Requirement already satisfied: colorama in c:\\users\\hp\\desktop\\ai_projects\\sentiment_analysis_project\\venv\\lib\\site-packages (from tqdm->kaggle) (0.4.6)\n",
      "Note: you may need to restart the kernel to use updated packages.\n"
     ]
    },
    {
     "name": "stderr",
     "output_type": "stream",
     "text": [
      "WARNING: Retrying (Retry(total=4, connect=None, read=None, redirect=None, status=None)) after connection broken by 'ReadTimeoutError(\"HTTPSConnectionPool(host='files.pythonhosted.org', port=443): Read timed out. (read timeout=15)\")': /packages/14/83/7f29c7abe0d5dc769dad7da993382c3e4239ad63e1dd58414d129e0a4da2/kaggle-1.7.4.5-py3-none-any.whl\n",
      "WARNING: Retrying (Retry(total=3, connect=None, read=None, redirect=None, status=None)) after connection broken by 'NewConnectionError('<pip._vendor.urllib3.connection.HTTPSConnection object at 0x0000024E1BFBD7F0>: Failed to establish a new connection: [Errno 11001] getaddrinfo failed')': /packages/14/83/7f29c7abe0d5dc769dad7da993382c3e4239ad63e1dd58414d129e0a4da2/kaggle-1.7.4.5-py3-none-any.whl\n",
      "WARNING: Retrying (Retry(total=2, connect=None, read=None, redirect=None, status=None)) after connection broken by 'NewConnectionError('<pip._vendor.urllib3.connection.HTTPSConnection object at 0x0000024E1BFBDC40>: Failed to establish a new connection: [Errno 11001] getaddrinfo failed')': /packages/14/83/7f29c7abe0d5dc769dad7da993382c3e4239ad63e1dd58414d129e0a4da2/kaggle-1.7.4.5-py3-none-any.whl\n",
      "WARNING: Retrying (Retry(total=1, connect=None, read=None, redirect=None, status=None)) after connection broken by 'NewConnectionError('<pip._vendor.urllib3.connection.HTTPSConnection object at 0x0000024E1D60CA40>: Failed to establish a new connection: [Errno 11001] getaddrinfo failed')': /packages/14/83/7f29c7abe0d5dc769dad7da993382c3e4239ad63e1dd58414d129e0a4da2/kaggle-1.7.4.5-py3-none-any.whl\n",
      "WARNING: Retrying (Retry(total=0, connect=None, read=None, redirect=None, status=None)) after connection broken by 'NewConnectionError('<pip._vendor.urllib3.connection.HTTPSConnection object at 0x0000024E1D60DFD0>: Failed to establish a new connection: [Errno 11001] getaddrinfo failed')': /packages/14/83/7f29c7abe0d5dc769dad7da993382c3e4239ad63e1dd58414d129e0a4da2/kaggle-1.7.4.5-py3-none-any.whl\n",
      "ERROR: Could not install packages due to an OSError: HTTPSConnectionPool(host='files.pythonhosted.org', port=443): Max retries exceeded with url: /packages/14/83/7f29c7abe0d5dc769dad7da993382c3e4239ad63e1dd58414d129e0a4da2/kaggle-1.7.4.5-py3-none-any.whl (Caused by NewConnectionError('<pip._vendor.urllib3.connection.HTTPSConnection object at 0x0000024E1D60F1A0>: Failed to establish a new connection: [Errno 11001] getaddrinfo failed'))\n",
      "\n",
      "\n",
      "[notice] A new release of pip is available: 24.0 -> 25.1.1\n",
      "[notice] To update, run: python.exe -m pip install --upgrade pip\n"
     ]
    }
   ],
   "source": [
    "pip install kaggle\n"
   ]
  },
  {
   "cell_type": "code",
   "execution_count": 5,
   "id": "719b589d-0b60-446b-856b-e1b8c9a63e24",
   "metadata": {},
   "outputs": [
    {
     "name": "stdout",
     "output_type": "stream",
     "text": [
      "Collecting kaggle\n",
      "  Using cached kaggle-1.7.4.5-py3-none-any.whl.metadata (16 kB)\n",
      "Requirement already satisfied: bleach in c:\\users\\hp\\desktop\\ai_projects\\sentiment_analysis_project\\venv\\lib\\site-packages (from kaggle) (6.2.0)\n",
      "Requirement already satisfied: certifi>=14.05.14 in c:\\users\\hp\\desktop\\ai_projects\\sentiment_analysis_project\\venv\\lib\\site-packages (from kaggle) (2025.6.15)\n",
      "Requirement already satisfied: charset-normalizer in c:\\users\\hp\\desktop\\ai_projects\\sentiment_analysis_project\\venv\\lib\\site-packages (from kaggle) (3.4.2)\n",
      "Requirement already satisfied: idna in c:\\users\\hp\\desktop\\ai_projects\\sentiment_analysis_project\\venv\\lib\\site-packages (from kaggle) (3.10)\n",
      "Collecting protobuf (from kaggle)\n",
      "  Using cached protobuf-6.31.1-cp310-abi3-win_amd64.whl.metadata (593 bytes)\n",
      "Requirement already satisfied: python-dateutil>=2.5.3 in c:\\users\\hp\\desktop\\ai_projects\\sentiment_analysis_project\\venv\\lib\\site-packages (from kaggle) (2.9.0.post0)\n",
      "Collecting python-slugify (from kaggle)\n",
      "  Using cached python_slugify-8.0.4-py2.py3-none-any.whl.metadata (8.5 kB)\n",
      "Requirement already satisfied: requests in c:\\users\\hp\\desktop\\ai_projects\\sentiment_analysis_project\\venv\\lib\\site-packages (from kaggle) (2.32.4)\n",
      "Requirement already satisfied: setuptools>=21.0.0 in c:\\users\\hp\\desktop\\ai_projects\\sentiment_analysis_project\\venv\\lib\\site-packages (from kaggle) (80.9.0)\n",
      "Requirement already satisfied: six>=1.10 in c:\\users\\hp\\desktop\\ai_projects\\sentiment_analysis_project\\venv\\lib\\site-packages (from kaggle) (1.17.0)\n",
      "Collecting text-unidecode (from kaggle)\n",
      "  Using cached text_unidecode-1.3-py2.py3-none-any.whl.metadata (2.4 kB)\n",
      "Collecting tqdm (from kaggle)\n",
      "  Using cached tqdm-4.67.1-py3-none-any.whl.metadata (57 kB)\n",
      "Requirement already satisfied: urllib3>=1.15.1 in c:\\users\\hp\\desktop\\ai_projects\\sentiment_analysis_project\\venv\\lib\\site-packages (from kaggle) (2.5.0)\n",
      "Requirement already satisfied: webencodings in c:\\users\\hp\\desktop\\ai_projects\\sentiment_analysis_project\\venv\\lib\\site-packages (from kaggle) (0.5.1)\n",
      "Requirement already satisfied: colorama in c:\\users\\hp\\desktop\\ai_projects\\sentiment_analysis_project\\venv\\lib\\site-packages (from tqdm->kaggle) (0.4.6)\n",
      "Downloading kaggle-1.7.4.5-py3-none-any.whl (181 kB)\n",
      "   ---------------------------------------- 0.0/181.2 kB ? eta -:--:--\n",
      "   -- ------------------------------------- 10.2/181.2 kB ? eta -:--:--\n",
      "   -- ------------------------------------- 10.2/181.2 kB ? eta -:--:--\n",
      "   -- ------------------------------------- 10.2/181.2 kB ? eta -:--:--\n",
      "   -- ------------------------------------- 10.2/181.2 kB ? eta -:--:--\n",
      "   ------ -------------------------------- 30.7/181.2 kB 100.9 kB/s eta 0:00:02\n",
      "   ------ -------------------------------- 30.7/181.2 kB 100.9 kB/s eta 0:00:02\n",
      "   ------ -------------------------------- 30.7/181.2 kB 100.9 kB/s eta 0:00:02\n",
      "   --------- ------------------------------ 41.0/181.2 kB 98.5 kB/s eta 0:00:02\n",
      "   ------------- ------------------------- 61.4/181.2 kB 136.5 kB/s eta 0:00:01\n",
      "   --------------- ----------------------- 71.7/181.2 kB 145.6 kB/s eta 0:00:01\n",
      "   ------------------- ------------------- 92.2/181.2 kB 174.7 kB/s eta 0:00:01\n",
      "   ------------------- ------------------- 92.2/181.2 kB 174.7 kB/s eta 0:00:01\n",
      "   ------------------- ------------------- 92.2/181.2 kB 174.7 kB/s eta 0:00:01\n",
      "   ----------------------- -------------- 112.6/181.2 kB 168.1 kB/s eta 0:00:01\n",
      "   ------------------------- ------------ 122.9/181.2 kB 171.7 kB/s eta 0:00:01\n",
      "   ------------------------------ ------- 143.4/181.2 kB 185.1 kB/s eta 0:00:01\n",
      "   -------------------------------- ----- 153.6/181.2 kB 195.3 kB/s eta 0:00:01\n",
      "   -------------------------------- ----- 153.6/181.2 kB 195.3 kB/s eta 0:00:01\n",
      "   ------------------------------------ - 174.1/181.2 kB 194.1 kB/s eta 0:00:01\n",
      "   -------------------------------------- 181.2/181.2 kB 195.4 kB/s eta 0:00:00\n",
      "Using cached protobuf-6.31.1-cp310-abi3-win_amd64.whl (435 kB)\n",
      "Downloading python_slugify-8.0.4-py2.py3-none-any.whl (10 kB)\n",
      "Downloading text_unidecode-1.3-py2.py3-none-any.whl (78 kB)\n",
      "   ---------------------------------------- 0.0/78.2 kB ? eta -:--:--\n",
      "   --------------- ------------------------ 30.7/78.2 kB 660.6 kB/s eta 0:00:01\n",
      "   ------------------------------- -------- 61.4/78.2 kB 544.7 kB/s eta 0:00:01\n",
      "   ---------------------------------------- 78.2/78.2 kB 543.3 kB/s eta 0:00:00\n",
      "Using cached tqdm-4.67.1-py3-none-any.whl (78 kB)\n",
      "Installing collected packages: text-unidecode, tqdm, python-slugify, protobuf, kaggle\n",
      "Successfully installed kaggle-1.7.4.5 protobuf-6.31.1 python-slugify-8.0.4 text-unidecode-1.3 tqdm-4.67.1\n",
      "Note: you may need to restart the kernel to use updated packages.\n"
     ]
    },
    {
     "name": "stderr",
     "output_type": "stream",
     "text": [
      "\n",
      "[notice] A new release of pip is available: 24.0 -> 25.1.1\n",
      "[notice] To update, run: python.exe -m pip install --upgrade pip\n"
     ]
    }
   ],
   "source": [
    "pip install kaggle\n"
   ]
  },
  {
   "cell_type": "code",
   "execution_count": 11,
   "id": "85130eb1-5894-4c5d-89a2-e5ed8652519b",
   "metadata": {},
   "outputs": [],
   "source": [
    "import os\n",
    "os.environ['KAGGLE_USERNAME'] = data['username']\n",
    "os.environ['KAGGLE_KEY'] = data['key']\n"
   ]
  },
  {
   "cell_type": "code",
   "execution_count": 15,
   "id": "62e580d5-b166-47ad-b633-5f505be4e0ad",
   "metadata": {},
   "outputs": [],
   "source": [
    "from kaggle.api.kaggle_api_extended import KaggleApi\n",
    "\n",
    "api = KaggleApi()\n",
    "api.authenticate()\n"
   ]
  },
  {
   "cell_type": "code",
   "execution_count": 17,
   "id": "232016f2-7138-4c7e-8225-23f91f2c718e",
   "metadata": {},
   "outputs": [
    {
     "name": "stdout",
     "output_type": "stream",
     "text": [
      "Dataset URL: https://www.kaggle.com/datasets/dineshpiyasamara/sentiment-analysis-dataset\n"
     ]
    }
   ],
   "source": [
    "api.dataset_download_files('dineshpiyasamara/sentiment-analysis-dataset' , path='../artifacts/')"
   ]
  },
  {
   "cell_type": "code",
   "execution_count": 21,
   "id": "d7f32396-65df-4b58-a230-76da68160a8c",
   "metadata": {},
   "outputs": [],
   "source": [
    "import zipfile\n",
    "with zipfile.ZipFile('../artifacts/sentiment-analysis-dataset.zip', 'r') as zip_ref:\n",
    "    zip_ref.extractall('../artifacts/')"
   ]
  },
  {
   "cell_type": "code",
   "execution_count": null,
   "id": "3aed8ac1-6238-4472-8a2f-fcaa4320895b",
   "metadata": {},
   "outputs": [],
   "source": []
  },
  {
   "cell_type": "code",
   "execution_count": null,
   "id": "83326c77-b7ec-4c74-b7b6-57cc4d4a5b7a",
   "metadata": {},
   "outputs": [],
   "source": []
  },
  {
   "cell_type": "code",
   "execution_count": null,
   "id": "e75f9c94-ed58-4d92-8c4f-3521f840b0d2",
   "metadata": {},
   "outputs": [],
   "source": []
  }
 ],
 "metadata": {
  "kernelspec": {
   "display_name": "Python 3 (ipykernel)",
   "language": "python",
   "name": "python3"
  },
  "language_info": {
   "codemirror_mode": {
    "name": "ipython",
    "version": 3
   },
   "file_extension": ".py",
   "mimetype": "text/x-python",
   "name": "python",
   "nbconvert_exporter": "python",
   "pygments_lexer": "ipython3",
   "version": "3.12.4"
  }
 },
 "nbformat": 4,
 "nbformat_minor": 5
}
